<<<<<<< HEAD
{
  "cells": [
    {
      "cell_type": "markdown",
      "metadata": {
        "id": "WUxssXBUpief"
      },
      "source": [
        "## Jupyter Notebook example\n",
        "\n",
        "Follow instructions and fill in where required. Do not modify anything else than what you are asked to."
      ]
    },
    {
      "cell_type": "markdown",
      "metadata": {
        "id": "dLuHS8YLpieh"
      },
      "source": [
        "## Table of Contents\n",
        "\n",
        "* [1. Shell commands and line magics](#shellmagic)\n",
        "* [2. Latex for formulas](#latex)\n",
        "* [3. Interactive widget](#interactive)\n",
        "* [4. Git](#git)"
      ]
    },
    {
      "cell_type": "markdown",
      "metadata": {
        "id": "8zTuRHjWpieh"
      },
      "source": [
        "### 1. Shell commands and line magics <a class=\"anchor\" id=\"shellmagic\"></a>\n",
        "\n",
        "1.1. In code cell below, run a shell command to print your working directory.\n",
        "\n",
        "1.2. Using a line magic create an alias called \"hello\" for command \"echo \"¡Hola mundo!\"\" and test it. Your answer should contain one line for creating alias and one line for using the alias."
      ]
    },
    {
      "cell_type": "code",
      "execution_count": null,
      "metadata": {
        "id": "aiD7PSbapieh",
        "outputId": "d64aebb9-5814-44b7-f5df-f92762695bc3",
        "colab": {
          "base_uri": "https://localhost:8080/"
        }
      },
      "outputs": [
        {
          "output_type": "stream",
          "name": "stdout",
          "text": [
            "/content\n"
          ]
        }
      ],
      "source": [
        "# Exercise 1.1. here:\n",
        "!pwd # google colab. When I tried using !cd in Windows locally I was getting \"The system cannot find the path specified.\""
      ]
    },
    {
      "cell_type": "code",
      "execution_count": null,
      "metadata": {
        "id": "gr263__Npiei",
        "outputId": "0a8293e7-9f8c-4502-a194-02410419fe3b",
        "colab": {
          "base_uri": "https://localhost:8080/"
        }
      },
      "outputs": [
        {
          "output_type": "stream",
          "name": "stdout",
          "text": [
            "¡Hola mundo!\n"
          ]
        }
      ],
      "source": [
        "# Exercise 1.2. here:\n",
        "%alias hello echo \"¡Hola mundo!\"\n",
        "%hello"
      ]
    },
    {
      "cell_type": "markdown",
      "metadata": {
        "id": "MGILXAXspiej"
      },
      "source": [
        "### 2. Markdown text <a class=\"anchor\" id=\"latex\"></a>\n",
        "\n",
        "Different kind of text can be added into markdown cells. [Here](https://jupyter-notebook.readthedocs.io/en/stable/examples/Notebook/Working%20With%20Markdown%20Cells.html) is a good source into Markdown basics.\n",
        "\n",
        "2.1. In markdown cell below display Pythagorean theorem using LaTex syntax.\n",
        "\n",
        "2.2. Display a Python function called \"hello\" that returns \"Hallo Welt!\". Use Github flavored markdown. (You may use some other programming language here if you wish)"
      ]
    },
    {
      "cell_type": "markdown",
      "metadata": {
        "id": "T3LtIG20piek"
      },
      "source": [
        "2.1. here:\n",
        "\n",
        "The Pythagorean theorem is defined as:\n",
        "$$ c = \\sqrt{a^2 + b^2} $$\n",
        "where $c$ is the hypotenuse and $a$ and $b$ are the other two sides of a right triangle.\n",
        "\n",
        "2.2. here:\n",
        "```python\n",
        "def hello():\n",
        "    return \"Hallo Welt!\"\n",
        "```"
      ]
    },
    {
      "cell_type": "markdown",
      "metadata": {
        "id": "SdnWJOCdpiek"
      },
      "source": [
        "### 3. Interactive widget <a class=\"anchor\" id=\"interactive\"></a>\n",
        "\n",
        "In the program below we want to investigate a set of movie reviews and see what are the most frequent words there. We are not interested in seeing punctuation marks or the clearly most common words referred as stopwords.\n",
        "\n",
        "3.1. Run the code and investigate the output. In the marked codeline there is something wrong that causes wrong output. Can you figure out what to add to display correct words?\n",
        "\n",
        "3.2. Use the @interact decorator at the end of the program to range displaying 5 to 10 most frequent words. You can see an example of the usage of the decorator [here](https://coderefinery.github.io/jupyter/examples/#widgets-for-interactive-data-fitting)"
      ]
    },
    {
      "cell_type": "code",
      "execution_count": null,
      "metadata": {
        "id": "-DPf__yipiek"
      },
      "outputs": [],
      "source": [
        "# Notice!:\n",
        "# For ModuleNotFoundError: No module named 'nltk' you need to pip install nltk to your environment\n",
        "# For ModuleNotFoundError: No module named 'ipywidgets' you need to pip install ipywidgets to your environment\n",
        "# To install nltk data sets movie_reviews and stopwords you need to install the data sets with nltk.download.\n",
        "# See examples: https://www.nltk.org/data.html\n",
        "# Do that here:\n",
        "import nltk\n",
        "# nltk.download()"
      ]
    },
    {
      "cell_type": "code",
      "execution_count": null,
      "metadata": {
        "id": "SeWqyherpiel",
        "outputId": "a4097817-ae5d-431d-a9d9-8516955c7ffd",
        "colab": {
          "base_uri": "https://localhost:8080/",
          "height": 971,
          "referenced_widgets": [
            "f20c1d0303224fd891aa4a302ae5d16a",
            "1781faa4b2b847098f09e7d6c599c2d1",
            "45a1df878a4141c98748d52e8cbdecea",
            "a23fccbae023463abd4c71f78f2cba53",
            "7022eafbbcf94096bf5fb6d5a3ebc2f1",
            "15a09fdc26f54eaeaa21937c8acd2f76",
            "0d43936276e248d5b2547bfae6b0a286"
          ]
        }
      },
      "outputs": [
        {
          "output_type": "display_data",
          "data": {
            "text/plain": [
              "<Figure size 640x480 with 1 Axes>"
            ],
            "image/png": "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\n"
          },
          "metadata": {}
        },
        {
          "output_type": "display_data",
          "data": {
            "text/plain": [
              "interactive(children=(IntSlider(value=7, description='n', max=10, min=5), Output()), _dom_classes=('widget-int…"
            ],
            "application/vnd.jupyter.widget-view+json": {
              "version_major": 2,
              "version_minor": 0,
              "model_id": "f20c1d0303224fd891aa4a302ae5d16a"
            }
          },
          "metadata": {}
        }
      ],
      "source": [
        "from nltk import FreqDist\n",
        "from nltk import RegexpTokenizer\n",
        "from nltk.corpus import movie_reviews\n",
        "from nltk.corpus import stopwords\n",
        "from ipywidgets import interact\n",
        "\n",
        "tokenizer = RegexpTokenizer(r\"\\w+\")\n",
        "word_tokens = tokenizer.tokenize(movie_reviews.raw())\n",
        "\n",
        "stop_words = set(stopwords.words('english'))\n",
        "\n",
        "# Exercise 3.1. below:\n",
        "filtered_words = [w for w in word_tokens if w not in stop_words]\n",
        "\n",
        "fd = FreqDist(filtered_words)\n",
        "fd.plot(5)\n",
        "\n",
        "# Exercise 3.2. here:\n",
        "@interact\n",
        "def slider(n = (5, 10)):\n",
        "    fd.plot(n)"
      ]
    },
    {
      "cell_type": "markdown",
      "metadata": {
        "id": "4HB9wQELpiem"
      },
      "source": [
        "### 4. Git <a class=\"anchor\" id=\"git\"></a>\n",
        "\n",
        "Follow [these](https://coderefinery.github.io/jupyter/version-control/) instructions to save this notebook and create a repository for it. After you have done this, paste the repository url in the cell below. Please make your repository public on Github so that your reviewer is able to assess this exercise."
      ]
    },
    {
      "cell_type": "code",
      "execution_count": null,
      "metadata": {
        "id": "gKjZBSK6pien"
      },
      "outputs": [],
      "source": [
        "# Paste your repository url here:\n",
        "# https://github.com/amatakos/hands-on-sci-comp"
      ]
    }
  ],
  "metadata": {
    "kernelspec": {
      "display_name": "Python 3",
      "language": "python",
      "name": "python3"
    },
    "language_info": {
      "codemirror_mode": {
        "name": "ipython",
        "version": 3
      },
      "file_extension": ".py",
      "mimetype": "text/x-python",
      "name": "python",
      "nbconvert_exporter": "python",
      "pygments_lexer": "ipython3",
      "version": "3.8.15"
    },
    "colab": {
      "provenance": []
    },
    "widgets": {
      "application/vnd.jupyter.widget-state+json": {
        "f20c1d0303224fd891aa4a302ae5d16a": {
          "model_module": "@jupyter-widgets/controls",
          "model_name": "VBoxModel",
          "model_module_version": "1.5.0",
          "state": {
            "_dom_classes": [
              "widget-interact"
            ],
            "_model_module": "@jupyter-widgets/controls",
            "_model_module_version": "1.5.0",
            "_model_name": "VBoxModel",
            "_view_count": null,
            "_view_module": "@jupyter-widgets/controls",
            "_view_module_version": "1.5.0",
            "_view_name": "VBoxView",
            "box_style": "",
            "children": [
              "IPY_MODEL_1781faa4b2b847098f09e7d6c599c2d1",
              "IPY_MODEL_45a1df878a4141c98748d52e8cbdecea"
            ],
            "layout": "IPY_MODEL_a23fccbae023463abd4c71f78f2cba53"
          }
        },
        "1781faa4b2b847098f09e7d6c599c2d1": {
          "model_module": "@jupyter-widgets/controls",
          "model_name": "IntSliderModel",
          "model_module_version": "1.5.0",
          "state": {
            "_dom_classes": [],
            "_model_module": "@jupyter-widgets/controls",
            "_model_module_version": "1.5.0",
            "_model_name": "IntSliderModel",
            "_view_count": null,
            "_view_module": "@jupyter-widgets/controls",
            "_view_module_version": "1.5.0",
            "_view_name": "IntSliderView",
            "continuous_update": true,
            "description": "n",
            "description_tooltip": null,
            "disabled": false,
            "layout": "IPY_MODEL_7022eafbbcf94096bf5fb6d5a3ebc2f1",
            "max": 10,
            "min": 5,
            "orientation": "horizontal",
            "readout": true,
            "readout_format": "d",
            "step": 1,
            "style": "IPY_MODEL_15a09fdc26f54eaeaa21937c8acd2f76",
            "value": 10
          }
        },
        "45a1df878a4141c98748d52e8cbdecea": {
          "model_module": "@jupyter-widgets/output",
          "model_name": "OutputModel",
          "model_module_version": "1.0.0",
          "state": {
            "_dom_classes": [],
            "_model_module": "@jupyter-widgets/output",
            "_model_module_version": "1.0.0",
            "_model_name": "OutputModel",
            "_view_count": null,
            "_view_module": "@jupyter-widgets/output",
            "_view_module_version": "1.0.0",
            "_view_name": "OutputView",
            "layout": "IPY_MODEL_0d43936276e248d5b2547bfae6b0a286",
            "msg_id": "",
            "outputs": [
              {
                "output_type": "display_data",
                "data": {
                  "text/plain": "<Figure size 640x480 with 1 Axes>",
                  "image/png": "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\n"
                },
                "metadata": {}
              }
            ]
          }
        },
        "a23fccbae023463abd4c71f78f2cba53": {
          "model_module": "@jupyter-widgets/base",
          "model_name": "LayoutModel",
          "model_module_version": "1.2.0",
          "state": {
            "_model_module": "@jupyter-widgets/base",
            "_model_module_version": "1.2.0",
            "_model_name": "LayoutModel",
            "_view_count": null,
            "_view_module": "@jupyter-widgets/base",
            "_view_module_version": "1.2.0",
            "_view_name": "LayoutView",
            "align_content": null,
            "align_items": null,
            "align_self": null,
            "border": null,
            "bottom": null,
            "display": null,
            "flex": null,
            "flex_flow": null,
            "grid_area": null,
            "grid_auto_columns": null,
            "grid_auto_flow": null,
            "grid_auto_rows": null,
            "grid_column": null,
            "grid_gap": null,
            "grid_row": null,
            "grid_template_areas": null,
            "grid_template_columns": null,
            "grid_template_rows": null,
            "height": null,
            "justify_content": null,
            "justify_items": null,
            "left": null,
            "margin": null,
            "max_height": null,
            "max_width": null,
            "min_height": null,
            "min_width": null,
            "object_fit": null,
            "object_position": null,
            "order": null,
            "overflow": null,
            "overflow_x": null,
            "overflow_y": null,
            "padding": null,
            "right": null,
            "top": null,
            "visibility": null,
            "width": null
          }
        },
        "7022eafbbcf94096bf5fb6d5a3ebc2f1": {
          "model_module": "@jupyter-widgets/base",
          "model_name": "LayoutModel",
          "model_module_version": "1.2.0",
          "state": {
            "_model_module": "@jupyter-widgets/base",
            "_model_module_version": "1.2.0",
            "_model_name": "LayoutModel",
            "_view_count": null,
            "_view_module": "@jupyter-widgets/base",
            "_view_module_version": "1.2.0",
            "_view_name": "LayoutView",
            "align_content": null,
            "align_items": null,
            "align_self": null,
            "border": null,
            "bottom": null,
            "display": null,
            "flex": null,
            "flex_flow": null,
            "grid_area": null,
            "grid_auto_columns": null,
            "grid_auto_flow": null,
            "grid_auto_rows": null,
            "grid_column": null,
            "grid_gap": null,
            "grid_row": null,
            "grid_template_areas": null,
            "grid_template_columns": null,
            "grid_template_rows": null,
            "height": null,
            "justify_content": null,
            "justify_items": null,
            "left": null,
            "margin": null,
            "max_height": null,
            "max_width": null,
            "min_height": null,
            "min_width": null,
            "object_fit": null,
            "object_position": null,
            "order": null,
            "overflow": null,
            "overflow_x": null,
            "overflow_y": null,
            "padding": null,
            "right": null,
            "top": null,
            "visibility": null,
            "width": null
          }
        },
        "15a09fdc26f54eaeaa21937c8acd2f76": {
          "model_module": "@jupyter-widgets/controls",
          "model_name": "SliderStyleModel",
          "model_module_version": "1.5.0",
          "state": {
            "_model_module": "@jupyter-widgets/controls",
            "_model_module_version": "1.5.0",
            "_model_name": "SliderStyleModel",
            "_view_count": null,
            "_view_module": "@jupyter-widgets/base",
            "_view_module_version": "1.2.0",
            "_view_name": "StyleView",
            "description_width": "",
            "handle_color": null
          }
        },
        "0d43936276e248d5b2547bfae6b0a286": {
          "model_module": "@jupyter-widgets/base",
          "model_name": "LayoutModel",
          "model_module_version": "1.2.0",
          "state": {
            "_model_module": "@jupyter-widgets/base",
            "_model_module_version": "1.2.0",
            "_model_name": "LayoutModel",
            "_view_count": null,
            "_view_module": "@jupyter-widgets/base",
            "_view_module_version": "1.2.0",
            "_view_name": "LayoutView",
            "align_content": null,
            "align_items": null,
            "align_self": null,
            "border": null,
            "bottom": null,
            "display": null,
            "flex": null,
            "flex_flow": null,
            "grid_area": null,
            "grid_auto_columns": null,
            "grid_auto_flow": null,
            "grid_auto_rows": null,
            "grid_column": null,
            "grid_gap": null,
            "grid_row": null,
            "grid_template_areas": null,
            "grid_template_columns": null,
            "grid_template_rows": null,
            "height": null,
            "justify_content": null,
            "justify_items": null,
            "left": null,
            "margin": null,
            "max_height": null,
            "max_width": null,
            "min_height": null,
            "min_width": null,
            "object_fit": null,
            "object_position": null,
            "order": null,
            "overflow": null,
            "overflow_x": null,
            "overflow_y": null,
            "padding": null,
            "right": null,
            "top": null,
            "visibility": null,
            "width": null
          }
        }
      }
    }
  },
  "nbformat": 4,
  "nbformat_minor": 0
}
=======
{
 "cells": [
  {
   "cell_type": "markdown",
   "metadata": {},
   "source": [
    "## Jupyter Notebook example\n",
    "\n",
    "Follow instructions and fill in where required. Do not modify anything else than what you are asked to."
   ]
  },
  {
   "cell_type": "markdown",
   "metadata": {},
   "source": [
    "## Table of Contents\n",
    "\n",
    "* [1. Shell commands and line magics](#shellmagic)\n",
    "* [2. Latex for formulas](#latex)\n",
    "* [3. Interactive widget](#interactive)\n",
    "* [4. Git](#git)"
   ]
  },
  {
   "cell_type": "markdown",
   "metadata": {},
   "source": [
    "### 1. Shell commands and line magics <a class=\"anchor\" id=\"shellmagic\"></a>\n",
    "\n",
    "1.1. In code cell below, run a shell command to print your working directory.\n",
    "\n",
    "1.2. Using a line magic create an alias called \"hello\" for command \"echo \"¡Hola mundo!\"\" and test it. Your answer should contain one line for creating alias and one line for using the alias."
   ]
  },
  {
   "cell_type": "code",
   "execution_count": 1,
   "metadata": {},
   "outputs": [
    {
     "name": "stderr",
     "output_type": "stream",
     "text": [
      "The system cannot find the path specified.\n"
     ]
    }
   ],
   "source": [
    "# Exercise 1.1. here:\n",
    "!cd # Windows"
   ]
  },
  {
   "cell_type": "code",
   "execution_count": 2,
   "metadata": {},
   "outputs": [
    {
     "name": "stdout",
     "output_type": "stream",
     "text": [
      "\"�Hola mundo!\" \n"
     ]
    }
   ],
   "source": [
    "# Exercise 1.2. here:\n",
    "%alias hello echo \"¡Hola mundo!\"\n",
    "%hello"
   ]
  },
  {
   "cell_type": "markdown",
   "metadata": {},
   "source": [
    "### 2. Markdown text <a class=\"anchor\" id=\"latex\"></a>\n",
    "\n",
    "Different kind of text can be added into markdown cells. [Here](https://jupyter-notebook.readthedocs.io/en/stable/examples/Notebook/Working%20With%20Markdown%20Cells.html) is a good source into Markdown basics.\n",
    "\n",
    "2.1. In markdown cell below display Pythagorean theorem using LaTex syntax.\n",
    "\n",
    "2.2. Display a Python function called \"hello\" that returns \"Hallo Welt!\". Use Github flavored markdown. (You may use some other programming language here if you wish)"
   ]
  },
  {
   "cell_type": "markdown",
   "metadata": {},
   "source": [
    "2.1. here:\n",
    "\n",
    "The Pythagorean theorem is defined as:\n",
    "$$ c = \\sqrt{a^2 + b^2} $$\n",
    "where $c$ is the hypotenuse and $a$ and $b$ are the other two sides of a right triangle.\n",
    "\n",
    "2.2. here:\n",
    "```python\n",
    "def hello():\n",
    "    return \"Hallo Welt!\"\n",
    "```"
   ]
  },
  {
   "cell_type": "markdown",
   "metadata": {},
   "source": [
    "### 3. Interactive widget <a class=\"anchor\" id=\"interactive\"></a>\n",
    "\n",
    "In the program below we want to investigate a set of movie reviews and see what are the most frequent words there. We are not interested in seeing punctuation marks or the clearly most common words referred as stopwords. \n",
    "\n",
    "3.1. Run the code and investigate the output. In the marked codeline there is something wrong that causes wrong output. Can you figure out what to add to display correct words?\n",
    "\n",
    "3.2. Use the @interact decorator at the end of the program to range displaying 5 to 10 most frequent words. You can see an example of the usage of the decorator [here](https://coderefinery.github.io/jupyter/examples/#widgets-for-interactive-data-fitting)"
   ]
  },
  {
   "cell_type": "code",
   "execution_count": 3,
   "metadata": {},
   "outputs": [],
   "source": [
    "# Notice!: \n",
    "# For ModuleNotFoundError: No module named 'nltk' you need to pip install nltk to your environment\n",
    "# For ModuleNotFoundError: No module named 'ipywidgets' you need to pip install ipywidgets to your environment\n",
    "# To install nltk data sets movie_reviews and stopwords you need to install the data sets with nltk.download. \n",
    "# See examples: https://www.nltk.org/data.html\n",
    "# Do that here:\n",
    "import nltk\n",
    "# nltk.download()"
   ]
  },
  {
   "cell_type": "code",
   "execution_count": 4,
   "metadata": {},
   "outputs": [
    {
     "data": {
      "image/png": "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",
      "text/plain": [
       "<Figure size 640x480 with 1 Axes>"
      ]
     },
     "metadata": {},
     "output_type": "display_data"
    },
    {
     "data": {
      "application/vnd.jupyter.widget-view+json": {
       "model_id": "a4f71b91acb745999ce54e000f557ab0",
       "version_major": 2,
       "version_minor": 0
      },
      "text/plain": [
       "interactive(children=(IntSlider(value=7, description='n', max=10, min=5), Output()), _dom_classes=('widget-int…"
      ]
     },
     "metadata": {},
     "output_type": "display_data"
    }
   ],
   "source": [
    "from nltk import FreqDist\n",
    "from nltk import RegexpTokenizer\n",
    "from nltk.corpus import movie_reviews\n",
    "from nltk.corpus import stopwords \n",
    "from ipywidgets import interact\n",
    "\n",
    "tokenizer = RegexpTokenizer(r\"\\w+\")\n",
    "word_tokens = tokenizer.tokenize(movie_reviews.raw())\n",
    "\n",
    "stop_words = set(stopwords.words('english'))\n",
    "\n",
    "# Exercise 3.1. below: \n",
    "filtered_words = [w for w in word_tokens if w not in stop_words]\n",
    "\n",
    "fd = FreqDist(filtered_words)\n",
    "fd.plot(5)\n",
    "\n",
    "# Exercise 3.2. here:\n",
    "@interact\n",
    "def slider(n = (5, 10)):\n",
    "    fd.plot(n)"
   ]
  },
  {
   "cell_type": "markdown",
   "metadata": {},
   "source": [
    "### 4. Git <a class=\"anchor\" id=\"git\"></a>\n",
    "\n",
    "Follow [these](https://coderefinery.github.io/jupyter/version-control/) instructions to save this notebook and create a repository for it. After you have done this, paste the repository url in the cell below. Please make your repository public on Github so that your reviewer is able to assess this exercise."
   ]
  },
  {
   "cell_type": "code",
   "execution_count": 5,
   "metadata": {},
   "outputs": [],
   "source": [
    "# Paste your repository url here: \n",
    "# https://github.com/amatakos/hands-on-sci-comp"
   ]
  }
 ],
 "metadata": {
  "kernelspec": {
   "display_name": "Python 3",
   "language": "python",
   "name": "python3"
  },
  "language_info": {
   "codemirror_mode": {
    "name": "ipython",
    "version": 3
   },
   "file_extension": ".py",
   "mimetype": "text/x-python",
   "name": "python",
   "nbconvert_exporter": "python",
   "pygments_lexer": "ipython3",
   "version": "3.8.15"
  }
 },
 "nbformat": 4,
 "nbformat_minor": 4
}
>>>>>>> d176b944fd37dbd4276e9f745a910160620a7938
