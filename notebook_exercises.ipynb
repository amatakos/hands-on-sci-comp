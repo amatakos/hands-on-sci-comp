{
  "cells": [
    {
      "cell_type": "markdown",
      "metadata": {
        "id": "WUxssXBUpief"
      },
      "source": [
        "## Jupyter Notebook example\n",
        "\n",
        "Follow instructions and fill in where required. Do not modify anything else than what you are asked to."
      ]
    },
    {
      "cell_type": "markdown",
      "metadata": {
        "id": "dLuHS8YLpieh"
      },
      "source": [
        "## Table of Contents\n",
        "\n",
        "* [1. Shell commands and line magics](#shellmagic)\n",
        "* [2. Latex for formulas](#latex)\n",
        "* [3. Interactive widget](#interactive)\n",
        "* [4. Git](#git)"
      ]
    },
    {
      "cell_type": "markdown",
      "metadata": {
        "id": "8zTuRHjWpieh"
      },
      "source": [
        "### 1. Shell commands and line magics <a class=\"anchor\" id=\"shellmagic\"></a>\n",
        "\n",
        "1.1. In code cell below, run a shell command to print your working directory.\n",
        "\n",
        "1.2. Using a line magic create an alias called \"hello\" for command \"echo \"¡Hola mundo!\"\" and test it. Your answer should contain one line for creating alias and one line for using the alias."
      ]
    },
    {
      "cell_type": "code",
      "execution_count": null,
      "metadata": {},
      "outputs": [
        {
          "name": "stdout",
          "output_type": "stream",
          "text": [
            "/content\n"
          ]
        }
      ],
      "source": [
        "# Exercise 1.1. here:\n",
        "!pwd # google colab. When I tried using !cd in Windows locally I was getting \"The system cannot find the path specified.\""
      ]
    },
    {
      "cell_type": "code",
      "execution_count": null,
      "metadata": {
        "colab": {
          "base_uri": "https://localhost:8080/"
        },
        "id": "gr263__Npiei",
        "outputId": "0a8293e7-9f8c-4502-a194-02410419fe3b"
      },
      "outputs": [
        {
          "name": "stdout",
          "output_type": "stream",
          "text": [
            "¡Hola mundo!\n"
          ]
        }
      ],
      "source": [
        "# Exercise 1.2. here:\n",
        "%alias hello echo \"¡Hola mundo!\"\n",
        "%hello"
      ]
    },
    {
      "cell_type": "markdown",
      "metadata": {
        "id": "MGILXAXspiej"
      },
      "source": [
        "### 2. Markdown text <a class=\"anchor\" id=\"latex\"></a>\n",
        "\n",
        "Different kind of text can be added into markdown cells. [Here](https://jupyter-notebook.readthedocs.io/en/stable/examples/Notebook/Working%20With%20Markdown%20Cells.html) is a good source into Markdown basics.\n",
        "\n",
        "2.1. In markdown cell below display Pythagorean theorem using LaTex syntax.\n",
        "\n",
        "2.2. Display a Python function called \"hello\" that returns \"Hallo Welt!\". Use Github flavored markdown. (You may use some other programming language here if you wish)"
      ]
    },
    {
      "cell_type": "markdown",
      "metadata": {
        "id": "T3LtIG20piek"
      },
      "source": [
        "2.1. here:\n",
        "\n",
        "The Pythagorean theorem is defined as:\n",
        "$$ c = \\sqrt{a^2 + b^2} $$\n",
        "where $c$ is the hypotenuse and $a$ and $b$ are the other two sides of a right triangle.\n",
        "\n",
        "2.2. here:\n",
        "```python\n",
        "def hello():\n",
        "    return \"Hallo Welt!\"\n",
        "```"
      ]
    },
    {
      "cell_type": "markdown",
      "metadata": {
        "id": "SdnWJOCdpiek"
      },
      "source": [
        "### 3. Interactive widget <a class=\"anchor\" id=\"interactive\"></a>\n",
        "\n",
        "In the program below we want to investigate a set of movie reviews and see what are the most frequent words there. We are not interested in seeing punctuation marks or the clearly most common words referred as stopwords.\n",
        "\n",
        "3.1. Run the code and investigate the output. In the marked codeline there is something wrong that causes wrong output. Can you figure out what to add to display correct words?\n",
        "\n",
        "3.2. Use the @interact decorator at the end of the program to range displaying 5 to 10 most frequent words. You can see an example of the usage of the decorator [here](https://coderefinery.github.io/jupyter/examples/#widgets-for-interactive-data-fitting)"
      ]
    },
    {
      "cell_type": "code",
      "execution_count": 1,
      "metadata": {
        "id": "-DPf__yipiek"
      },
      "outputs": [],
      "source": [
        "# Notice!:\n",
        "# For ModuleNotFoundError: No module named 'nltk' you need to pip install nltk to your environment\n",
        "# For ModuleNotFoundError: No module named 'ipywidgets' you need to pip install ipywidgets to your environment\n",
        "# To install nltk data sets movie_reviews and stopwords you need to install the data sets with nltk.download.\n",
        "# See examples: https://www.nltk.org/data.html\n",
        "# Do that here:\n",
        "import nltk\n",
        "# nltk.download()"
      ]
    },
    {
      "cell_type": "code",
      "execution_count": 2,
      "metadata": {
        "colab": {
          "base_uri": "https://localhost:8080/",
          "height": 971,
          "referenced_widgets": [
            "f20c1d0303224fd891aa4a302ae5d16a",
            "1781faa4b2b847098f09e7d6c599c2d1",
            "45a1df878a4141c98748d52e8cbdecea",
            "a23fccbae023463abd4c71f78f2cba53",
            "7022eafbbcf94096bf5fb6d5a3ebc2f1",
            "15a09fdc26f54eaeaa21937c8acd2f76",
            "0d43936276e248d5b2547bfae6b0a286"
          ]
        },
        "id": "SeWqyherpiel",
        "outputId": "a4097817-ae5d-431d-a9d9-8516955c7ffd"
      },
      "outputs": [
        {
          "data": {
            "image/png": "[encoded data removed]",
            "text/plain": [
              "<Figure size 640x480 with 1 Axes>"
            ]
          },
          "metadata": {},
          "output_type": "display_data"
        },
        {
          "data": {
            "application/vnd.jupyter.widget-view+json": {
              "model_id": "86a401b35016466981d35c2a2512aba6",
              "version_major": 2,
              "version_minor": 0
            },
            "text/plain": [
              "interactive(children=(IntSlider(value=7, description='n', max=10, min=5), Output()), _dom_classes=('widget-int…"
            ]
          },
          "metadata": {},
          "output_type": "display_data"
        }
      ],
      "source": [
        "from nltk import FreqDist\n",
        "from nltk import RegexpTokenizer\n",
        "from nltk.corpus import movie_reviews\n",
        "from nltk.corpus import stopwords\n",
        "from ipywidgets import interact\n",
        "\n",
        "tokenizer = RegexpTokenizer(r\"\\w+\")\n",
        "word_tokens = tokenizer.tokenize(movie_reviews.raw())\n",
        "\n",
        "stop_words = set(stopwords.words('english'))\n",
        "\n",
        "# Exercise 3.1. below:\n",
        "filtered_words = [w for w in word_tokens if w not in stop_words]\n",
        "\n",
        "fd = FreqDist(filtered_words)\n",
        "fd.plot(5)\n",
        "\n",
        "# Exercise 3.2. here:\n",
        "@interact\n",
        "def slider(n = (5, 10)):\n",
        "    fd.plot(n)"
      ]
    },
    {
      "cell_type": "markdown",
      "metadata": {
        "id": "4HB9wQELpiem"
      },
      "source": [
        "### 4. Git <a class=\"anchor\" id=\"git\"></a>\n",
        "\n",
        "Follow [these](https://coderefinery.github.io/jupyter/version-control/) instructions to save this notebook and create a repository for it. After you have done this, paste the repository url in the cell below. Please make your repository public on Github so that your reviewer is able to assess this exercise."
      ]
    },
    {
      "cell_type": "code",
      "execution_count": null,
      "metadata": {
        "id": "gKjZBSK6pien"
      },
      "outputs": [],
      "source": [
        "# Paste your repository url here:\n",
        "# https://github.com/amatakos/hands-on-sci-comp"
      ]
    }
  ],
  "metadata": {
    "colab": {
      "provenance": []
    },
    "kernelspec": {
      "display_name": "Python 3",
      "language": "python",
      "name": "python3"
    },
    "language_info": {
      "codemirror_mode": {
        "name": "ipython",
        "version": 3
      },
      "file_extension": ".py",
      "mimetype": "text/x-python",
      "name": "python",
      "nbconvert_exporter": "python",
      "pygments_lexer": "ipython3",
      "version": "3.8.15"
    },
    "widgets": {
      "application/vnd.jupyter.widget-state+json": {
        "0d43936276e248d5b2547bfae6b0a286": {
          "model_module": "@jupyter-widgets/base",
          "model_module_version": "1.2.0",
          "model_name": "LayoutModel",
          "state": {
            "_model_module": "@jupyter-widgets/base",
            "_model_module_version": "1.2.0",
            "_model_name": "LayoutModel",
            "_view_count": null,
            "_view_module": "@jupyter-widgets/base",
            "_view_module_version": "1.2.0",
            "_view_name": "LayoutView",
            "align_content": null,
            "align_items": null,
            "align_self": null,
            "border": null,
            "bottom": null,
            "display": null,
            "flex": null,
            "flex_flow": null,
            "grid_area": null,
            "grid_auto_columns": null,
            "grid_auto_flow": null,
            "grid_auto_rows": null,
            "grid_column": null,
            "grid_gap": null,
            "grid_row": null,
            "grid_template_areas": null,
            "grid_template_columns": null,
            "grid_template_rows": null,
            "height": null,
            "justify_content": null,
            "justify_items": null,
            "left": null,
            "margin": null,
            "max_height": null,
            "max_width": null,
            "min_height": null,
            "min_width": null,
            "object_fit": null,
            "object_position": null,
            "order": null,
            "overflow": null,
            "overflow_x": null,
            "overflow_y": null,
            "padding": null,
            "right": null,
            "top": null,
            "visibility": null,
            "width": null
          }
        },
        "15a09fdc26f54eaeaa21937c8acd2f76": {
          "model_module": "@jupyter-widgets/controls",
          "model_module_version": "1.5.0",
          "model_name": "SliderStyleModel",
          "state": {
            "_model_module": "@jupyter-widgets/controls",
            "_model_module_version": "1.5.0",
            "_model_name": "SliderStyleModel",
            "_view_count": null,
            "_view_module": "@jupyter-widgets/base",
            "_view_module_version": "1.2.0",
            "_view_name": "StyleView",
            "description_width": "",
            "handle_color": null
          }
        },
        "1781faa4b2b847098f09e7d6c599c2d1": {
          "model_module": "@jupyter-widgets/controls",
          "model_module_version": "1.5.0",
          "model_name": "IntSliderModel",
          "state": {
            "_dom_classes": [],
            "_model_module": "@jupyter-widgets/controls",
            "_model_module_version": "1.5.0",
            "_model_name": "IntSliderModel",
            "_view_count": null,
            "_view_module": "@jupyter-widgets/controls",
            "_view_module_version": "1.5.0",
            "_view_name": "IntSliderView",
            "continuous_update": true,
            "description": "n",
            "description_tooltip": null,
            "disabled": false,
            "layout": "IPY_MODEL_7022eafbbcf94096bf5fb6d5a3ebc2f1",
            "max": 10,
            "min": 5,
            "orientation": "horizontal",
            "readout": true,
            "readout_format": "d",
            "step": 1,
            "style": "IPY_MODEL_15a09fdc26f54eaeaa21937c8acd2f76",
            "value": 10
          }
        },
        "45a1df878a4141c98748d52e8cbdecea": {
          "model_module": "@jupyter-widgets/output",
          "model_module_version": "1.0.0",
          "model_name": "OutputModel",
          "state": {
            "_dom_classes": [],
            "_model_module": "@jupyter-widgets/output",
            "_model_module_version": "1.0.0",
            "_model_name": "OutputModel",
            "_view_count": null,
            "_view_module": "@jupyter-widgets/output",
            "_view_module_version": "1.0.0",
            "_view_name": "OutputView",
            "layout": "IPY_MODEL_0d43936276e248d5b2547bfae6b0a286",
            "msg_id": "",
            "outputs": [
              {
                "data": {
                  "image/png": "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\n",
                  "text/plain": "<Figure size 640x480 with 1 Axes>"
                },
                "metadata": {},
                "output_type": "display_data"
              }
            ]
          }
        },
        "7022eafbbcf94096bf5fb6d5a3ebc2f1": {
          "model_module": "@jupyter-widgets/base",
          "model_module_version": "1.2.0",
          "model_name": "LayoutModel",
          "state": {
            "_model_module": "@jupyter-widgets/base",
            "_model_module_version": "1.2.0",
            "_model_name": "LayoutModel",
            "_view_count": null,
            "_view_module": "@jupyter-widgets/base",
            "_view_module_version": "1.2.0",
            "_view_name": "LayoutView",
            "align_content": null,
            "align_items": null,
            "align_self": null,
            "border": null,
            "bottom": null,
            "display": null,
            "flex": null,
            "flex_flow": null,
            "grid_area": null,
            "grid_auto_columns": null,
            "grid_auto_flow": null,
            "grid_auto_rows": null,
            "grid_column": null,
            "grid_gap": null,
            "grid_row": null,
            "grid_template_areas": null,
            "grid_template_columns": null,
            "grid_template_rows": null,
            "height": null,
            "justify_content": null,
            "justify_items": null,
            "left": null,
            "margin": null,
            "max_height": null,
            "max_width": null,
            "min_height": null,
            "min_width": null,
            "object_fit": null,
            "object_position": null,
            "order": null,
            "overflow": null,
            "overflow_x": null,
            "overflow_y": null,
            "padding": null,
            "right": null,
            "top": null,
            "visibility": null,
            "width": null
          }
        },
        "a23fccbae023463abd4c71f78f2cba53": {
          "model_module": "@jupyter-widgets/base",
          "model_module_version": "1.2.0",
          "model_name": "LayoutModel",
          "state": {
            "_model_module": "@jupyter-widgets/base",
            "_model_module_version": "1.2.0",
            "_model_name": "LayoutModel",
            "_view_count": null,
            "_view_module": "@jupyter-widgets/base",
            "_view_module_version": "1.2.0",
            "_view_name": "LayoutView",
            "align_content": null,
            "align_items": null,
            "align_self": null,
            "border": null,
            "bottom": null,
            "display": null,
            "flex": null,
            "flex_flow": null,
            "grid_area": null,
            "grid_auto_columns": null,
            "grid_auto_flow": null,
            "grid_auto_rows": null,
            "grid_column": null,
            "grid_gap": null,
            "grid_row": null,
            "grid_template_areas": null,
            "grid_template_columns": null,
            "grid_template_rows": null,
            "height": null,
            "justify_content": null,
            "justify_items": null,
            "left": null,
            "margin": null,
            "max_height": null,
            "max_width": null,
            "min_height": null,
            "min_width": null,
            "object_fit": null,
            "object_position": null,
            "order": null,
            "overflow": null,
            "overflow_x": null,
            "overflow_y": null,
            "padding": null,
            "right": null,
            "top": null,
            "visibility": null,
            "width": null
          }
        },
        "f20c1d0303224fd891aa4a302ae5d16a": {
          "model_module": "@jupyter-widgets/controls",
          "model_module_version": "1.5.0",
          "model_name": "VBoxModel",
          "state": {
            "_dom_classes": [
              "widget-interact"
            ],
            "_model_module": "@jupyter-widgets/controls",
            "_model_module_version": "1.5.0",
            "_model_name": "VBoxModel",
            "_view_count": null,
            "_view_module": "@jupyter-widgets/controls",
            "_view_module_version": "1.5.0",
            "_view_name": "VBoxView",
            "box_style": "",
            "children": [
              "IPY_MODEL_1781faa4b2b847098f09e7d6c599c2d1",
              "IPY_MODEL_45a1df878a4141c98748d52e8cbdecea"
            ],
            "layout": "IPY_MODEL_a23fccbae023463abd4c71f78f2cba53"
          }
        }
      }
    }
  },
  "nbformat": 4,
  "nbformat_minor": 0
}
